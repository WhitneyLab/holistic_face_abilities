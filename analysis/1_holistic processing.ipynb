{
 "cells": [
  {
   "cell_type": "markdown",
   "metadata": {},
   "source": [
    "# Load libraries "
   ]
  },
  {
   "cell_type": "code",
   "execution_count": 1,
   "metadata": {
    "ExecuteTime": {
     "end_time": "2020-03-25T05:26:03.900133Z",
     "start_time": "2020-03-25T05:25:59.846885Z"
    }
   },
   "outputs": [],
   "source": [
    "import pandas as pd\n",
    "import numpy as np\n",
    "import os\n",
    "import re\n",
    "\n",
    "\n",
    "# figures\n",
    "import matplotlib.pyplot as plt\n",
    "import seaborn as sns\n",
    "sns.set(color_codes = True)\n",
    "\n",
    "%matplotlib inline"
   ]
  },
  {
   "cell_type": "markdown",
   "metadata": {},
   "source": [
    "# Paths "
   ]
  },
  {
   "cell_type": "code",
   "execution_count": 2,
   "metadata": {
    "ExecuteTime": {
     "end_time": "2020-03-25T05:26:03.913148Z",
     "start_time": "2020-03-25T05:26:03.902867Z"
    }
   },
   "outputs": [],
   "source": [
    "analysispath = os.getcwd()\n",
    "datapath = analysispath + '/../data/'"
   ]
  },
  {
   "cell_type": "markdown",
   "metadata": {},
   "source": [
    "# Load data "
   ]
  },
  {
   "cell_type": "code",
   "execution_count": 3,
   "metadata": {
    "ExecuteTime": {
     "end_time": "2020-03-25T05:26:04.065901Z",
     "start_time": "2020-03-25T05:26:03.920636Z"
    }
   },
   "outputs": [],
   "source": [
    "data = pd.read_csv(datapath + 'holistic_face_abilities.csv')\n",
    "correct_data = pd.read_csv(datapath + 'correct_answers.csv', index_col = 0)"
   ]
  },
  {
   "cell_type": "code",
   "execution_count": 4,
   "metadata": {
    "ExecuteTime": {
     "end_time": "2020-03-25T05:26:04.101167Z",
     "start_time": "2020-03-25T05:26:04.068520Z"
    }
   },
   "outputs": [
    {
     "data": {
      "text/html": [
       "<div>\n",
       "<style scoped>\n",
       "    .dataframe tbody tr th:only-of-type {\n",
       "        vertical-align: middle;\n",
       "    }\n",
       "\n",
       "    .dataframe tbody tr th {\n",
       "        vertical-align: top;\n",
       "    }\n",
       "\n",
       "    .dataframe thead th {\n",
       "        text-align: right;\n",
       "    }\n",
       "</style>\n",
       "<table border=\"1\" class=\"dataframe\">\n",
       "  <thead>\n",
       "    <tr style=\"text-align: right;\">\n",
       "      <th></th>\n",
       "      <th>StartDate</th>\n",
       "      <th>EndDate</th>\n",
       "      <th>Status</th>\n",
       "      <th>IPAddress</th>\n",
       "      <th>Progress</th>\n",
       "      <th>Duration (in seconds)</th>\n",
       "      <th>Finished</th>\n",
       "      <th>RecordedDate</th>\n",
       "      <th>ResponseId</th>\n",
       "      <th>RecipientLastName</th>\n",
       "      <th>...</th>\n",
       "      <th>Q197_Click Count</th>\n",
       "      <th>Q198</th>\n",
       "      <th>Q199_First Click</th>\n",
       "      <th>Q199_Last Click</th>\n",
       "      <th>Q199_Page Submit</th>\n",
       "      <th>Q199_Click Count</th>\n",
       "      <th>SC0</th>\n",
       "      <th>SC1</th>\n",
       "      <th>SC2</th>\n",
       "      <th>mTurkCode</th>\n",
       "    </tr>\n",
       "  </thead>\n",
       "  <tbody>\n",
       "    <tr>\n",
       "      <td>0</td>\n",
       "      <td>2020-03-19 23:34:59</td>\n",
       "      <td>2020-03-19 23:57:17</td>\n",
       "      <td>IP Address</td>\n",
       "      <td>68.100.126.33</td>\n",
       "      <td>100</td>\n",
       "      <td>1338</td>\n",
       "      <td>True</td>\n",
       "      <td>2020-03-19 23:57:19</td>\n",
       "      <td>R_3iEZpvzRS9vKVaM</td>\n",
       "      <td>NaN</td>\n",
       "      <td>...</td>\n",
       "      <td>1</td>\n",
       "      <td>2</td>\n",
       "      <td>3.107</td>\n",
       "      <td>3.107</td>\n",
       "      <td>5.003</td>\n",
       "      <td>1</td>\n",
       "      <td>68</td>\n",
       "      <td>14</td>\n",
       "      <td>54</td>\n",
       "      <td>8958129</td>\n",
       "    </tr>\n",
       "    <tr>\n",
       "      <td>1</td>\n",
       "      <td>2020-03-19 23:38:00</td>\n",
       "      <td>2020-03-19 23:57:24</td>\n",
       "      <td>IP Address</td>\n",
       "      <td>67.245.214.21</td>\n",
       "      <td>100</td>\n",
       "      <td>1164</td>\n",
       "      <td>True</td>\n",
       "      <td>2020-03-19 23:57:25</td>\n",
       "      <td>R_2DNSpGKVGs7xijD</td>\n",
       "      <td>NaN</td>\n",
       "      <td>...</td>\n",
       "      <td>1</td>\n",
       "      <td>3</td>\n",
       "      <td>2.843</td>\n",
       "      <td>3.097</td>\n",
       "      <td>3.988</td>\n",
       "      <td>2</td>\n",
       "      <td>73</td>\n",
       "      <td>11</td>\n",
       "      <td>62</td>\n",
       "      <td>3447207</td>\n",
       "    </tr>\n",
       "    <tr>\n",
       "      <td>2</td>\n",
       "      <td>2020-03-19 23:41:00</td>\n",
       "      <td>2020-03-20 00:01:39</td>\n",
       "      <td>IP Address</td>\n",
       "      <td>50.25.69.85</td>\n",
       "      <td>100</td>\n",
       "      <td>1238</td>\n",
       "      <td>True</td>\n",
       "      <td>2020-03-20 00:01:40</td>\n",
       "      <td>R_3OfB0uYMa3qd1La</td>\n",
       "      <td>NaN</td>\n",
       "      <td>...</td>\n",
       "      <td>1</td>\n",
       "      <td>3</td>\n",
       "      <td>3.184</td>\n",
       "      <td>3.184</td>\n",
       "      <td>4.934</td>\n",
       "      <td>1</td>\n",
       "      <td>76</td>\n",
       "      <td>8</td>\n",
       "      <td>68</td>\n",
       "      <td>8853818</td>\n",
       "    </tr>\n",
       "    <tr>\n",
       "      <td>3</td>\n",
       "      <td>2020-03-19 23:38:08</td>\n",
       "      <td>2020-03-20 00:13:20</td>\n",
       "      <td>IP Address</td>\n",
       "      <td>172.93.164.64</td>\n",
       "      <td>100</td>\n",
       "      <td>2112</td>\n",
       "      <td>True</td>\n",
       "      <td>2020-03-20 00:13:25</td>\n",
       "      <td>R_XXJk6PeLtUH8BDX</td>\n",
       "      <td>NaN</td>\n",
       "      <td>...</td>\n",
       "      <td>1</td>\n",
       "      <td>3</td>\n",
       "      <td>3.395</td>\n",
       "      <td>3.395</td>\n",
       "      <td>4.582</td>\n",
       "      <td>1</td>\n",
       "      <td>63</td>\n",
       "      <td>24</td>\n",
       "      <td>39</td>\n",
       "      <td>2631153</td>\n",
       "    </tr>\n",
       "    <tr>\n",
       "      <td>4</td>\n",
       "      <td>2020-03-19 23:35:53</td>\n",
       "      <td>2020-03-20 00:17:48</td>\n",
       "      <td>IP Address</td>\n",
       "      <td>108.30.47.212</td>\n",
       "      <td>100</td>\n",
       "      <td>2514</td>\n",
       "      <td>True</td>\n",
       "      <td>2020-03-20 00:17:49</td>\n",
       "      <td>R_2wiCC5uOFWRFiIG</td>\n",
       "      <td>NaN</td>\n",
       "      <td>...</td>\n",
       "      <td>1</td>\n",
       "      <td>3</td>\n",
       "      <td>3.634</td>\n",
       "      <td>3.634</td>\n",
       "      <td>5.301</td>\n",
       "      <td>1</td>\n",
       "      <td>65</td>\n",
       "      <td>6</td>\n",
       "      <td>59</td>\n",
       "      <td>6945018</td>\n",
       "    </tr>\n",
       "  </tbody>\n",
       "</table>\n",
       "<p>5 rows × 898 columns</p>\n",
       "</div>"
      ],
      "text/plain": [
       "             StartDate              EndDate      Status      IPAddress  \\\n",
       "0  2020-03-19 23:34:59  2020-03-19 23:57:17  IP Address  68.100.126.33   \n",
       "1  2020-03-19 23:38:00  2020-03-19 23:57:24  IP Address  67.245.214.21   \n",
       "2  2020-03-19 23:41:00  2020-03-20 00:01:39  IP Address    50.25.69.85   \n",
       "3  2020-03-19 23:38:08  2020-03-20 00:13:20  IP Address  172.93.164.64   \n",
       "4  2020-03-19 23:35:53  2020-03-20 00:17:48  IP Address  108.30.47.212   \n",
       "\n",
       "  Progress Duration (in seconds) Finished         RecordedDate  \\\n",
       "0      100                  1338     True  2020-03-19 23:57:19   \n",
       "1      100                  1164     True  2020-03-19 23:57:25   \n",
       "2      100                  1238     True  2020-03-20 00:01:40   \n",
       "3      100                  2112     True  2020-03-20 00:13:25   \n",
       "4      100                  2514     True  2020-03-20 00:17:49   \n",
       "\n",
       "          ResponseId RecipientLastName  ... Q197_Click Count Q198  \\\n",
       "0  R_3iEZpvzRS9vKVaM               NaN  ...                1    2   \n",
       "1  R_2DNSpGKVGs7xijD               NaN  ...                1    3   \n",
       "2  R_3OfB0uYMa3qd1La               NaN  ...                1    3   \n",
       "3  R_XXJk6PeLtUH8BDX               NaN  ...                1    3   \n",
       "4  R_2wiCC5uOFWRFiIG               NaN  ...                1    3   \n",
       "\n",
       "  Q199_First Click Q199_Last Click Q199_Page Submit Q199_Click Count SC0 SC1  \\\n",
       "0            3.107           3.107            5.003                1  68  14   \n",
       "1            2.843           3.097            3.988                2  73  11   \n",
       "2            3.184           3.184            4.934                1  76   8   \n",
       "3            3.395           3.395            4.582                1  63  24   \n",
       "4            3.634           3.634            5.301                1  65   6   \n",
       "\n",
       "  SC2 mTurkCode  \n",
       "0  54   8958129  \n",
       "1  62   3447207  \n",
       "2  68   8853818  \n",
       "3  39   2631153  \n",
       "4  59   6945018  \n",
       "\n",
       "[5 rows x 898 columns]"
      ]
     },
     "execution_count": 4,
     "metadata": {},
     "output_type": "execute_result"
    }
   ],
   "source": [
    "# remove two first rows, not necessary\n",
    "image_data = data.copy()\n",
    "data = data.drop([0, 1])\n",
    "data.reset_index(inplace=True, drop=True)\n",
    "data.head()"
   ]
  },
  {
   "cell_type": "markdown",
   "metadata": {},
   "source": [
    "# Parse data for holistic processing"
   ]
  },
  {
   "cell_type": "code",
   "execution_count": 5,
   "metadata": {
    "ExecuteTime": {
     "end_time": "2020-03-25T05:26:04.116196Z",
     "start_time": "2020-03-25T05:26:04.103277Z"
    }
   },
   "outputs": [
    {
     "name": "stdout",
     "output_type": "stream",
     "text": [
      "Number of subjects: 20\n"
     ]
    }
   ],
   "source": [
    "nSubjects = data.shape[0] # number of subjects is number of rows in dataframe\n",
    "print('Number of subjects: ' + str(nSubjects))"
   ]
  },
  {
   "cell_type": "code",
   "execution_count": 6,
   "metadata": {
    "ExecuteTime": {
     "end_time": "2020-03-25T05:26:04.130587Z",
     "start_time": "2020-03-25T05:26:04.119573Z"
    }
   },
   "outputs": [],
   "source": [
    "holistic_cols = [col for col in data.columns if '_Q255' in col]\n",
    "holistic_data = data[holistic_cols].reset_index(drop=True)\n",
    "image_data = image_data.loc[0, holistic_cols]"
   ]
  },
  {
   "cell_type": "code",
   "execution_count": 7,
   "metadata": {
    "ExecuteTime": {
     "end_time": "2020-03-25T05:26:04.137363Z",
     "start_time": "2020-03-25T05:26:04.132671Z"
    }
   },
   "outputs": [],
   "source": [
    "nTrials = holistic_data.shape[1] # number of trials is number of columns in holistic_data"
   ]
  },
  {
   "cell_type": "code",
   "execution_count": 8,
   "metadata": {
    "ExecuteTime": {
     "end_time": "2020-03-25T05:26:04.148426Z",
     "start_time": "2020-03-25T05:26:04.143784Z"
    }
   },
   "outputs": [],
   "source": [
    "traps = ['angelina.bmp', 'obama.bmp', 'scarlett.bmp', 'bradpitt.bmp']"
   ]
  },
  {
   "cell_type": "code",
   "execution_count": 9,
   "metadata": {
    "ExecuteTime": {
     "end_time": "2020-03-25T05:26:04.169252Z",
     "start_time": "2020-03-25T05:26:04.158949Z"
    }
   },
   "outputs": [],
   "source": [
    "mat_long = pd.DataFrame(columns =['SUBJECTID', 'MTURKCODE', 'TRIAL', 'IMAGE_NAME', 'IMAGE_NUMBER', 'CONDITION', 'RAW_ANSWER', 'CORRECT_ANSWER', 'ACCURACY', 'TRAP'])"
   ]
  },
  {
   "cell_type": "code",
   "execution_count": 10,
   "metadata": {
    "ExecuteTime": {
     "end_time": "2020-03-25T05:26:10.845088Z",
     "start_time": "2020-03-25T05:26:04.171218Z"
    }
   },
   "outputs": [],
   "source": [
    "row = 0\n",
    "for trial in range(nTrials):\n",
    "    \n",
    "    id_trial = trial + 1\n",
    "    \n",
    "    column_name = holistic_cols[trial] # get the column name\n",
    "    \n",
    "    image_complete = image_data[column_name] # get image name for that trial\n",
    "    \n",
    "    tmp = re.search('https://storage.googleapis.com/holistic_face_abilities/(.*) - Which gender is the face you just saw?', image_complete)\n",
    "    image_name = tmp.group(1) # this is the name of the image shown\n",
    "    \n",
    "        \n",
    "    # get correct answer from csv file\n",
    "    correct_answer = correct_data.loc[correct_data['REAL_NAME'] == image_name, 'CORRECT'].reset_index(drop=True)[0]\n",
    "\n",
    "    # start subject loop\n",
    "    \n",
    "    for subject in range(nSubjects):\n",
    "        \n",
    "        id_sub = subject + 1\n",
    "                \n",
    "        raw_answer = holistic_data.loc[subject, column_name] # get only the holistic_data from that subject and that particular question\n",
    "        \n",
    "        \n",
    "        workerID = data.loc[subject, 'mTurkCode'] # get mturk code      \n",
    "        \n",
    "        \n",
    "        mat_long.loc[row, 'SUBJECTID'] = id_sub\n",
    "        mat_long.loc[row, 'MTURKCODE'] = workerID\n",
    "        mat_long.loc[row, 'TRIAL'] = id_trial\n",
    "        mat_long.loc[row, 'IMAGE_NAME'] = image_name\n",
    "        \n",
    "        if image_name[0] == 'U':\n",
    "            mat_long.loc[row, 'CONDITION'] = 'upright'\n",
    "            # get the actual number of the image\n",
    "            tmp_image = re.search('U(.*).bmp', image_name)\n",
    "            image_number = int(tmp_image.group(1))\n",
    "        elif image_name[0] == 'I':\n",
    "            mat_long.loc[row, 'CONDITION'] = 'inverted'\n",
    "            # get the actual number of the image\n",
    "            tmp_image = re.search('I(.*).bmp', image_name)\n",
    "            image_number = int(tmp_image.group(1))\n",
    "        else:\n",
    "            mat_long.loc[row, 'CONDITION'] = 'trap'\n",
    "            image_number = 0\n",
    "            \n",
    "        mat_long.loc[row, 'IMAGE_NUMBER'] = image_number    \n",
    "        mat_long.loc[row, 'RAW_ANSWER'] = raw_answer\n",
    "        mat_long.loc[row, 'CORRECT_ANSWER'] = correct_answer\n",
    "        \n",
    "        if raw_answer == correct_answer:\n",
    "            mat_long.loc[row, 'ACCURACY'] = 1\n",
    "        else:\n",
    "            mat_long.loc[row, 'ACCURACY'] = 0\n",
    "            \n",
    "        if image_name in traps:\n",
    "            mat_long.loc[row, 'TRAP'] = 1\n",
    "        else:\n",
    "            mat_long.loc[row, 'TRAP'] = 0\n",
    "                \n",
    "            \n",
    "        row = row + 1"
   ]
  },
  {
   "cell_type": "code",
   "execution_count": 11,
   "metadata": {
    "ExecuteTime": {
     "end_time": "2020-03-25T05:26:10.867965Z",
     "start_time": "2020-03-25T05:26:10.847500Z"
    }
   },
   "outputs": [],
   "source": [
    "mat_wide = pd.DataFrame(columns =['SUBJECTID', 'MTURKCODE', 'TRIAL', 'IMAGE_NAME', 'IMAGE_NUMBER', 'UPRIGHT', 'INVERTED', 'RAW_ANSWER', 'CORRECT_ANSWER', 'TRAP'])\n",
    "\n"
   ]
  },
  {
   "cell_type": "code",
   "execution_count": 12,
   "metadata": {
    "ExecuteTime": {
     "end_time": "2020-03-25T05:26:10.899880Z",
     "start_time": "2020-03-25T05:26:10.881310Z"
    }
   },
   "outputs": [],
   "source": [
    "# row = 0\n",
    "# for trial in range(nTrials):\n",
    "    \n",
    "#     id_trial = trial + 1\n",
    "    \n",
    "#     column_name = holistic_cols[trial] # get the column name\n",
    "    \n",
    "#     image_complete = image_data[column_name] # get image name for that trial\n",
    "    \n",
    "#     tmp = re.search('https://storage.googleapis.com/holistic_face_abilities/(.*) - Which gender is the face you just saw?', image_complete)\n",
    "#     image_name = tmp.group(1) # this is the name of the image shown\n",
    "    \n",
    "        \n",
    "#     # get correct answer from csv file\n",
    "#     correct_answer = correct_data.loc[correct_data['REAL_NAME'] == image_name, 'CORRECT'].reset_index(drop=True)[0]\n",
    "\n",
    "#     # start subject loop\n",
    "    \n",
    "#     for subject in range(nSubjects):\n",
    "        \n",
    "#         id_sub = subject + 1\n",
    "                \n",
    "#         raw_answer = holistic_data.loc[subject, column_name] # get only the holistic_data from that subject and that particular question\n",
    "        \n",
    "        \n",
    "#         workerID = data.loc[subject, 'mTurkCode'] # get mturk code      \n",
    "        \n",
    "        \n",
    "#         mat_wide.loc[row, 'SUBJECTID'] = id_sub\n",
    "#         mat_wide.loc[row, 'MTURKCODE'] = workerID\n",
    "#         mat_wide.loc[row, 'TRIAL'] = id_trial\n",
    "#         mat_wide.loc[row, 'IMAGE_NAME'] = image_name\n",
    "        \n",
    "            \n",
    "#         mat_wide.loc[row, 'IMAGE_NUMBER'] = image_number    \n",
    "#         mat_wide.loc[row, 'RAW_ANSWER'] = raw_answer\n",
    "#         mat_wide.loc[row, 'CORRECT_ANSWER'] = correct_answer\n",
    "        \n",
    "#         if raw_answer == correct_answer:\n",
    "#             accuracy = 1\n",
    "#         else:\n",
    "#             accuracy = 0\n",
    "            \n",
    "#         if image_name in traps:\n",
    "#             accuracy = 1\n",
    "#         else:\n",
    "#             accuracy = 0\n",
    "                \n",
    "#         if image_name[0] == 'U':\n",
    "#             mat_wide.loc[row, 'UPRIGHT'] = accuracy\n",
    "#             # get the actual number of the image\n",
    "#             tmp_image = re.search('U(.*).bmp', image_name)\n",
    "#             image_number = int(tmp_image.group(1))\n",
    "#         elif image_name[0] == 'I':\n",
    "#             mat_wide.loc[row, 'INVERTED'] = accuracy\n",
    "#             # get the actual number of the image\n",
    "#             tmp_image = re.search('I(.*).bmp', image_name)\n",
    "#             image_number = int(tmp_image.group(1))\n",
    "\n",
    "                \n",
    "                \n",
    "                \n",
    "#         row = row + 1"
   ]
  },
  {
   "cell_type": "markdown",
   "metadata": {},
   "source": [
    "#  Check traps "
   ]
  },
  {
   "cell_type": "code",
   "execution_count": 13,
   "metadata": {
    "ExecuteTime": {
     "end_time": "2020-03-25T05:26:10.914701Z",
     "start_time": "2020-03-25T05:26:10.902511Z"
    }
   },
   "outputs": [],
   "source": [
    "trap_data = mat_long[mat_long['TRAP'] == 1]"
   ]
  },
  {
   "cell_type": "code",
   "execution_count": 14,
   "metadata": {
    "ExecuteTime": {
     "end_time": "2020-03-25T05:26:10.949952Z",
     "start_time": "2020-03-25T05:26:10.917120Z"
    }
   },
   "outputs": [
    {
     "name": "stdout",
     "output_type": "stream",
     "text": [
      "Subject 1: 100.0%\n",
      "Subject 2: 100.0%\n",
      "Subject 3: 100.0%\n",
      "Subject 4: 100.0%\n",
      "Subject 5: 100.0%\n",
      "Subject 6: 100.0%\n",
      "Subject 7: 100.0%\n",
      "Subject 8: 100.0%\n",
      "Subject 9: 100.0%\n",
      "Subject 10: 100.0%\n",
      "Subject 11: 100.0%\n",
      "Subject 12: 100.0%\n",
      "Subject 13: 100.0%\n",
      "Subject 14: 100.0%\n",
      "Subject 15: 75.0%\n",
      "Subject 16: 100.0%\n",
      "Subject 17: 100.0%\n",
      "Subject 18: 100.0%\n",
      "Subject 19: 75.0%\n",
      "Subject 20: 100.0%\n"
     ]
    }
   ],
   "source": [
    "for subject in trap_data.SUBJECTID.unique():\n",
    "    \n",
    "    mean = np.mean(trap_data.loc[trap_data['SUBJECTID'] == subject, 'ACCURACY'])*100\n",
    "    print('Subject ' + str(subject) + ': ' + str(mean) + '%')"
   ]
  },
  {
   "cell_type": "code",
   "execution_count": null,
   "metadata": {},
   "outputs": [],
   "source": []
  },
  {
   "cell_type": "markdown",
   "metadata": {},
   "source": [
    "# Holistic index per subject "
   ]
  },
  {
   "cell_type": "code",
   "execution_count": 15,
   "metadata": {
    "ExecuteTime": {
     "end_time": "2020-03-25T05:26:10.964347Z",
     "start_time": "2020-03-25T05:26:10.952197Z"
    }
   },
   "outputs": [],
   "source": [
    "# index out traps\n",
    "mat_cleaned = mat_long[mat_long['CONDITION'] != 'trap']"
   ]
  },
  {
   "cell_type": "code",
   "execution_count": 16,
   "metadata": {
    "ExecuteTime": {
     "end_time": "2020-03-25T05:26:10.970089Z",
     "start_time": "2020-03-25T05:26:10.966610Z"
    }
   },
   "outputs": [],
   "source": [
    "organized_data = mat_cleaned.groupby(['SUBJECTID', 'MTURKCODE', 'IMAGE_NAME', 'CONDITION'], as_index=False)"
   ]
  },
  {
   "cell_type": "code",
   "execution_count": 17,
   "metadata": {
    "ExecuteTime": {
     "end_time": "2020-03-25T05:26:12.095813Z",
     "start_time": "2020-03-25T05:26:10.973772Z"
    }
   },
   "outputs": [
    {
     "data": {
      "text/html": [
       "<div>\n",
       "<style scoped>\n",
       "    .dataframe tbody tr th:only-of-type {\n",
       "        vertical-align: middle;\n",
       "    }\n",
       "\n",
       "    .dataframe tbody tr th {\n",
       "        vertical-align: top;\n",
       "    }\n",
       "\n",
       "    .dataframe thead th {\n",
       "        text-align: right;\n",
       "    }\n",
       "</style>\n",
       "<table border=\"1\" class=\"dataframe\">\n",
       "  <thead>\n",
       "    <tr style=\"text-align: right;\">\n",
       "      <th></th>\n",
       "      <th>SUBJECTID</th>\n",
       "      <th>MTURKCODE</th>\n",
       "      <th>IMAGE_NAME</th>\n",
       "      <th>CONDITION</th>\n",
       "      <th>TRIAL</th>\n",
       "      <th>IMAGE_NUMBER</th>\n",
       "      <th>RAW_ANSWER</th>\n",
       "      <th>CORRECT_ANSWER</th>\n",
       "      <th>ACCURACY</th>\n",
       "      <th>TRAP</th>\n",
       "    </tr>\n",
       "  </thead>\n",
       "  <tbody>\n",
       "    <tr>\n",
       "      <td>0</td>\n",
       "      <td>1</td>\n",
       "      <td>8958129</td>\n",
       "      <td>I0006.bmp</td>\n",
       "      <td>inverted</td>\n",
       "      <td>1</td>\n",
       "      <td>6</td>\n",
       "      <td>Female</td>\n",
       "      <td>Female</td>\n",
       "      <td>1</td>\n",
       "      <td>0</td>\n",
       "    </tr>\n",
       "    <tr>\n",
       "      <td>1</td>\n",
       "      <td>1</td>\n",
       "      <td>8958129</td>\n",
       "      <td>I0014.bmp</td>\n",
       "      <td>inverted</td>\n",
       "      <td>2</td>\n",
       "      <td>14</td>\n",
       "      <td>Female</td>\n",
       "      <td>Male</td>\n",
       "      <td>0</td>\n",
       "      <td>0</td>\n",
       "    </tr>\n",
       "    <tr>\n",
       "      <td>2</td>\n",
       "      <td>1</td>\n",
       "      <td>8958129</td>\n",
       "      <td>I0020.bmp</td>\n",
       "      <td>inverted</td>\n",
       "      <td>3</td>\n",
       "      <td>20</td>\n",
       "      <td>Female</td>\n",
       "      <td>Male</td>\n",
       "      <td>0</td>\n",
       "      <td>0</td>\n",
       "    </tr>\n",
       "    <tr>\n",
       "      <td>3</td>\n",
       "      <td>1</td>\n",
       "      <td>8958129</td>\n",
       "      <td>I0061.bmp</td>\n",
       "      <td>inverted</td>\n",
       "      <td>4</td>\n",
       "      <td>61</td>\n",
       "      <td>Female</td>\n",
       "      <td>Female</td>\n",
       "      <td>1</td>\n",
       "      <td>0</td>\n",
       "    </tr>\n",
       "    <tr>\n",
       "      <td>4</td>\n",
       "      <td>1</td>\n",
       "      <td>8958129</td>\n",
       "      <td>I0076.bmp</td>\n",
       "      <td>inverted</td>\n",
       "      <td>5</td>\n",
       "      <td>76</td>\n",
       "      <td>Female</td>\n",
       "      <td>Female</td>\n",
       "      <td>1</td>\n",
       "      <td>0</td>\n",
       "    </tr>\n",
       "    <tr>\n",
       "      <td>...</td>\n",
       "      <td>...</td>\n",
       "      <td>...</td>\n",
       "      <td>...</td>\n",
       "      <td>...</td>\n",
       "      <td>...</td>\n",
       "      <td>...</td>\n",
       "      <td>...</td>\n",
       "      <td>...</td>\n",
       "      <td>...</td>\n",
       "      <td>...</td>\n",
       "    </tr>\n",
       "    <tr>\n",
       "      <td>1595</td>\n",
       "      <td>20</td>\n",
       "      <td>7456000</td>\n",
       "      <td>U0374.bmp</td>\n",
       "      <td>upright</td>\n",
       "      <td>76</td>\n",
       "      <td>374</td>\n",
       "      <td>Male</td>\n",
       "      <td>Female</td>\n",
       "      <td>0</td>\n",
       "      <td>0</td>\n",
       "    </tr>\n",
       "    <tr>\n",
       "      <td>1596</td>\n",
       "      <td>20</td>\n",
       "      <td>7456000</td>\n",
       "      <td>U0377.bmp</td>\n",
       "      <td>upright</td>\n",
       "      <td>77</td>\n",
       "      <td>377</td>\n",
       "      <td>Female</td>\n",
       "      <td>Female</td>\n",
       "      <td>1</td>\n",
       "      <td>0</td>\n",
       "    </tr>\n",
       "    <tr>\n",
       "      <td>1597</td>\n",
       "      <td>20</td>\n",
       "      <td>7456000</td>\n",
       "      <td>U0395.bmp</td>\n",
       "      <td>upright</td>\n",
       "      <td>78</td>\n",
       "      <td>395</td>\n",
       "      <td>Female</td>\n",
       "      <td>Male</td>\n",
       "      <td>0</td>\n",
       "      <td>0</td>\n",
       "    </tr>\n",
       "    <tr>\n",
       "      <td>1598</td>\n",
       "      <td>20</td>\n",
       "      <td>7456000</td>\n",
       "      <td>U0501.bmp</td>\n",
       "      <td>upright</td>\n",
       "      <td>79</td>\n",
       "      <td>501</td>\n",
       "      <td>Female</td>\n",
       "      <td>Female</td>\n",
       "      <td>1</td>\n",
       "      <td>0</td>\n",
       "    </tr>\n",
       "    <tr>\n",
       "      <td>1599</td>\n",
       "      <td>20</td>\n",
       "      <td>7456000</td>\n",
       "      <td>U0504.bmp</td>\n",
       "      <td>upright</td>\n",
       "      <td>80</td>\n",
       "      <td>504</td>\n",
       "      <td>Male</td>\n",
       "      <td>Male</td>\n",
       "      <td>1</td>\n",
       "      <td>0</td>\n",
       "    </tr>\n",
       "  </tbody>\n",
       "</table>\n",
       "<p>1600 rows × 10 columns</p>\n",
       "</div>"
      ],
      "text/plain": [
       "      SUBJECTID MTURKCODE IMAGE_NAME CONDITION  TRIAL  IMAGE_NUMBER  \\\n",
       "0             1   8958129  I0006.bmp  inverted      1             6   \n",
       "1             1   8958129  I0014.bmp  inverted      2            14   \n",
       "2             1   8958129  I0020.bmp  inverted      3            20   \n",
       "3             1   8958129  I0061.bmp  inverted      4            61   \n",
       "4             1   8958129  I0076.bmp  inverted      5            76   \n",
       "...         ...       ...        ...       ...    ...           ...   \n",
       "1595         20   7456000  U0374.bmp   upright     76           374   \n",
       "1596         20   7456000  U0377.bmp   upright     77           377   \n",
       "1597         20   7456000  U0395.bmp   upright     78           395   \n",
       "1598         20   7456000  U0501.bmp   upright     79           501   \n",
       "1599         20   7456000  U0504.bmp   upright     80           504   \n",
       "\n",
       "     RAW_ANSWER CORRECT_ANSWER  ACCURACY  TRAP  \n",
       "0        Female         Female         1     0  \n",
       "1        Female           Male         0     0  \n",
       "2        Female           Male         0     0  \n",
       "3        Female         Female         1     0  \n",
       "4        Female         Female         1     0  \n",
       "...         ...            ...       ...   ...  \n",
       "1595       Male         Female         0     0  \n",
       "1596     Female         Female         1     0  \n",
       "1597     Female           Male         0     0  \n",
       "1598     Female         Female         1     0  \n",
       "1599       Male           Male         1     0  \n",
       "\n",
       "[1600 rows x 10 columns]"
      ]
     },
     "execution_count": 17,
     "metadata": {},
     "output_type": "execute_result"
    }
   ],
   "source": [
    "long_before = organized_data.aggregate(np.sum)\n",
    "long_before"
   ]
  },
  {
   "cell_type": "code",
   "execution_count": 18,
   "metadata": {
    "ExecuteTime": {
     "end_time": "2020-03-25T05:26:12.136509Z",
     "start_time": "2020-03-25T05:26:12.098511Z"
    }
   },
   "outputs": [
    {
     "data": {
      "text/html": [
       "<div>\n",
       "<style scoped>\n",
       "    .dataframe tbody tr th:only-of-type {\n",
       "        vertical-align: middle;\n",
       "    }\n",
       "\n",
       "    .dataframe tbody tr th {\n",
       "        vertical-align: top;\n",
       "    }\n",
       "\n",
       "    .dataframe thead th {\n",
       "        text-align: right;\n",
       "    }\n",
       "</style>\n",
       "<table border=\"1\" class=\"dataframe\">\n",
       "  <thead>\n",
       "    <tr style=\"text-align: right;\">\n",
       "      <th>CONDITION</th>\n",
       "      <th>SUBJECTID</th>\n",
       "      <th>MTURKCODE</th>\n",
       "      <th>IMAGE_NUMBER</th>\n",
       "      <th>inverted</th>\n",
       "      <th>upright</th>\n",
       "    </tr>\n",
       "  </thead>\n",
       "  <tbody>\n",
       "    <tr>\n",
       "      <td>0</td>\n",
       "      <td>1</td>\n",
       "      <td>8958129</td>\n",
       "      <td>6</td>\n",
       "      <td>1.0</td>\n",
       "      <td>1.0</td>\n",
       "    </tr>\n",
       "    <tr>\n",
       "      <td>1</td>\n",
       "      <td>1</td>\n",
       "      <td>8958129</td>\n",
       "      <td>14</td>\n",
       "      <td>0.0</td>\n",
       "      <td>1.0</td>\n",
       "    </tr>\n",
       "    <tr>\n",
       "      <td>2</td>\n",
       "      <td>1</td>\n",
       "      <td>8958129</td>\n",
       "      <td>20</td>\n",
       "      <td>0.0</td>\n",
       "      <td>1.0</td>\n",
       "    </tr>\n",
       "    <tr>\n",
       "      <td>3</td>\n",
       "      <td>1</td>\n",
       "      <td>8958129</td>\n",
       "      <td>61</td>\n",
       "      <td>1.0</td>\n",
       "      <td>1.0</td>\n",
       "    </tr>\n",
       "    <tr>\n",
       "      <td>4</td>\n",
       "      <td>1</td>\n",
       "      <td>8958129</td>\n",
       "      <td>76</td>\n",
       "      <td>1.0</td>\n",
       "      <td>1.0</td>\n",
       "    </tr>\n",
       "    <tr>\n",
       "      <td>...</td>\n",
       "      <td>...</td>\n",
       "      <td>...</td>\n",
       "      <td>...</td>\n",
       "      <td>...</td>\n",
       "      <td>...</td>\n",
       "    </tr>\n",
       "    <tr>\n",
       "      <td>815</td>\n",
       "      <td>20</td>\n",
       "      <td>7456000</td>\n",
       "      <td>374</td>\n",
       "      <td>1.0</td>\n",
       "      <td>0.0</td>\n",
       "    </tr>\n",
       "    <tr>\n",
       "      <td>816</td>\n",
       "      <td>20</td>\n",
       "      <td>7456000</td>\n",
       "      <td>377</td>\n",
       "      <td>0.0</td>\n",
       "      <td>1.0</td>\n",
       "    </tr>\n",
       "    <tr>\n",
       "      <td>817</td>\n",
       "      <td>20</td>\n",
       "      <td>7456000</td>\n",
       "      <td>395</td>\n",
       "      <td>0.0</td>\n",
       "      <td>0.0</td>\n",
       "    </tr>\n",
       "    <tr>\n",
       "      <td>818</td>\n",
       "      <td>20</td>\n",
       "      <td>7456000</td>\n",
       "      <td>501</td>\n",
       "      <td>1.0</td>\n",
       "      <td>1.0</td>\n",
       "    </tr>\n",
       "    <tr>\n",
       "      <td>819</td>\n",
       "      <td>20</td>\n",
       "      <td>7456000</td>\n",
       "      <td>504</td>\n",
       "      <td>1.0</td>\n",
       "      <td>1.0</td>\n",
       "    </tr>\n",
       "  </tbody>\n",
       "</table>\n",
       "<p>820 rows × 5 columns</p>\n",
       "</div>"
      ],
      "text/plain": [
       "CONDITION  SUBJECTID MTURKCODE  IMAGE_NUMBER  inverted  upright\n",
       "0                  1   8958129             6       1.0      1.0\n",
       "1                  1   8958129            14       0.0      1.0\n",
       "2                  1   8958129            20       0.0      1.0\n",
       "3                  1   8958129            61       1.0      1.0\n",
       "4                  1   8958129            76       1.0      1.0\n",
       "..               ...       ...           ...       ...      ...\n",
       "815               20   7456000           374       1.0      0.0\n",
       "816               20   7456000           377       0.0      1.0\n",
       "817               20   7456000           395       0.0      0.0\n",
       "818               20   7456000           501       1.0      1.0\n",
       "819               20   7456000           504       1.0      1.0\n",
       "\n",
       "[820 rows x 5 columns]"
      ]
     },
     "execution_count": 18,
     "metadata": {},
     "output_type": "execute_result"
    }
   ],
   "source": [
    "long_after = long_before.pivot_table(index=['SUBJECTID', 'MTURKCODE', 'IMAGE_NUMBER'], columns='CONDITION', values='ACCURACY').reset_index()\n",
    "long_after"
   ]
  },
  {
   "cell_type": "markdown",
   "metadata": {},
   "source": [
    "Now the data is organized so we can calculate the holistic index per image  "
   ]
  },
  {
   "cell_type": "code",
   "execution_count": 19,
   "metadata": {
    "ExecuteTime": {
     "end_time": "2020-03-25T05:26:12.172503Z",
     "start_time": "2020-03-25T05:26:12.140439Z"
    }
   },
   "outputs": [],
   "source": [
    "long_after['HOLISTIC'] = long_after['upright'] - long_after['inverted']"
   ]
  },
  {
   "cell_type": "code",
   "execution_count": 20,
   "metadata": {
    "ExecuteTime": {
     "end_time": "2020-03-25T05:26:12.199058Z",
     "start_time": "2020-03-25T05:26:12.176171Z"
    }
   },
   "outputs": [
    {
     "data": {
      "text/html": [
       "<div>\n",
       "<style scoped>\n",
       "    .dataframe tbody tr th:only-of-type {\n",
       "        vertical-align: middle;\n",
       "    }\n",
       "\n",
       "    .dataframe tbody tr th {\n",
       "        vertical-align: top;\n",
       "    }\n",
       "\n",
       "    .dataframe thead th {\n",
       "        text-align: right;\n",
       "    }\n",
       "</style>\n",
       "<table border=\"1\" class=\"dataframe\">\n",
       "  <thead>\n",
       "    <tr style=\"text-align: right;\">\n",
       "      <th>CONDITION</th>\n",
       "      <th>SUBJECTID</th>\n",
       "      <th>MTURKCODE</th>\n",
       "      <th>IMAGE_NUMBER</th>\n",
       "      <th>inverted</th>\n",
       "      <th>upright</th>\n",
       "      <th>HOLISTIC</th>\n",
       "    </tr>\n",
       "  </thead>\n",
       "  <tbody>\n",
       "    <tr>\n",
       "      <td>0</td>\n",
       "      <td>1</td>\n",
       "      <td>8958129</td>\n",
       "      <td>6</td>\n",
       "      <td>1.0</td>\n",
       "      <td>1.0</td>\n",
       "      <td>0.0</td>\n",
       "    </tr>\n",
       "    <tr>\n",
       "      <td>1</td>\n",
       "      <td>1</td>\n",
       "      <td>8958129</td>\n",
       "      <td>14</td>\n",
       "      <td>0.0</td>\n",
       "      <td>1.0</td>\n",
       "      <td>1.0</td>\n",
       "    </tr>\n",
       "    <tr>\n",
       "      <td>2</td>\n",
       "      <td>1</td>\n",
       "      <td>8958129</td>\n",
       "      <td>20</td>\n",
       "      <td>0.0</td>\n",
       "      <td>1.0</td>\n",
       "      <td>1.0</td>\n",
       "    </tr>\n",
       "    <tr>\n",
       "      <td>3</td>\n",
       "      <td>1</td>\n",
       "      <td>8958129</td>\n",
       "      <td>61</td>\n",
       "      <td>1.0</td>\n",
       "      <td>1.0</td>\n",
       "      <td>0.0</td>\n",
       "    </tr>\n",
       "    <tr>\n",
       "      <td>4</td>\n",
       "      <td>1</td>\n",
       "      <td>8958129</td>\n",
       "      <td>76</td>\n",
       "      <td>1.0</td>\n",
       "      <td>1.0</td>\n",
       "      <td>0.0</td>\n",
       "    </tr>\n",
       "    <tr>\n",
       "      <td>...</td>\n",
       "      <td>...</td>\n",
       "      <td>...</td>\n",
       "      <td>...</td>\n",
       "      <td>...</td>\n",
       "      <td>...</td>\n",
       "      <td>...</td>\n",
       "    </tr>\n",
       "    <tr>\n",
       "      <td>815</td>\n",
       "      <td>20</td>\n",
       "      <td>7456000</td>\n",
       "      <td>374</td>\n",
       "      <td>1.0</td>\n",
       "      <td>0.0</td>\n",
       "      <td>-1.0</td>\n",
       "    </tr>\n",
       "    <tr>\n",
       "      <td>816</td>\n",
       "      <td>20</td>\n",
       "      <td>7456000</td>\n",
       "      <td>377</td>\n",
       "      <td>0.0</td>\n",
       "      <td>1.0</td>\n",
       "      <td>1.0</td>\n",
       "    </tr>\n",
       "    <tr>\n",
       "      <td>817</td>\n",
       "      <td>20</td>\n",
       "      <td>7456000</td>\n",
       "      <td>395</td>\n",
       "      <td>0.0</td>\n",
       "      <td>0.0</td>\n",
       "      <td>0.0</td>\n",
       "    </tr>\n",
       "    <tr>\n",
       "      <td>818</td>\n",
       "      <td>20</td>\n",
       "      <td>7456000</td>\n",
       "      <td>501</td>\n",
       "      <td>1.0</td>\n",
       "      <td>1.0</td>\n",
       "      <td>0.0</td>\n",
       "    </tr>\n",
       "    <tr>\n",
       "      <td>819</td>\n",
       "      <td>20</td>\n",
       "      <td>7456000</td>\n",
       "      <td>504</td>\n",
       "      <td>1.0</td>\n",
       "      <td>1.0</td>\n",
       "      <td>0.0</td>\n",
       "    </tr>\n",
       "  </tbody>\n",
       "</table>\n",
       "<p>820 rows × 6 columns</p>\n",
       "</div>"
      ],
      "text/plain": [
       "CONDITION  SUBJECTID MTURKCODE  IMAGE_NUMBER  inverted  upright  HOLISTIC\n",
       "0                  1   8958129             6       1.0      1.0       0.0\n",
       "1                  1   8958129            14       0.0      1.0       1.0\n",
       "2                  1   8958129            20       0.0      1.0       1.0\n",
       "3                  1   8958129            61       1.0      1.0       0.0\n",
       "4                  1   8958129            76       1.0      1.0       0.0\n",
       "..               ...       ...           ...       ...      ...       ...\n",
       "815               20   7456000           374       1.0      0.0      -1.0\n",
       "816               20   7456000           377       0.0      1.0       1.0\n",
       "817               20   7456000           395       0.0      0.0       0.0\n",
       "818               20   7456000           501       1.0      1.0       0.0\n",
       "819               20   7456000           504       1.0      1.0       0.0\n",
       "\n",
       "[820 rows x 6 columns]"
      ]
     },
     "execution_count": 20,
     "metadata": {},
     "output_type": "execute_result"
    }
   ],
   "source": [
    "long_after"
   ]
  },
  {
   "cell_type": "markdown",
   "metadata": {},
   "source": [
    "Now calculate holistic index per subject across images"
   ]
  },
  {
   "cell_type": "code",
   "execution_count": 21,
   "metadata": {
    "ExecuteTime": {
     "end_time": "2020-03-25T05:26:12.331985Z",
     "start_time": "2020-03-25T05:26:12.201012Z"
    }
   },
   "outputs": [],
   "source": [
    "subject_holistic_index = pd.DataFrame(columns = ['SUBJECTID', 'MTURKCODE', 'UPRIGHT', 'INVERTED', 'HOLISTIC_INDEX'])\n",
    "row = 0\n",
    "for subject in long_after.SUBJECTID.unique():\n",
    "    sub_data = long_after[long_after['SUBJECTID'] == subject]\n",
    "    \n",
    "    subject_holistic_index.loc[row, 'SUBJECTID'] = subject\n",
    "    subject_holistic_index.loc[row, 'MTURKCODE'] = int(sub_data.MTURKCODE.unique())\n",
    "    subject_holistic_index.loc[row, 'UPRIGHT'] = np.mean(sub_data['upright'])\n",
    "    subject_holistic_index.loc[row, 'INVERTED'] = np.mean(sub_data['inverted'])\n",
    "    subject_holistic_index.loc[row, 'HOLISTIC_INDEX'] = np.mean(sub_data['HOLISTIC'])\n",
    "    \n",
    "    row = row + 1"
   ]
  },
  {
   "cell_type": "code",
   "execution_count": 22,
   "metadata": {
    "ExecuteTime": {
     "end_time": "2020-03-25T05:26:12.882588Z",
     "start_time": "2020-03-25T05:26:12.334768Z"
    }
   },
   "outputs": [
    {
     "data": {
      "text/plain": [
       "<matplotlib.axes._subplots.AxesSubplot at 0x1a22605250>"
      ]
     },
     "execution_count": 22,
     "metadata": {},
     "output_type": "execute_result"
    },
    {
     "data": {
      "image/png": "[encoded data removed]",
      "text/plain": [
       "<Figure size 720x216 with 2 Axes>"
      ]
     },
     "metadata": {
      "needs_background": "light"
     },
     "output_type": "display_data"
    }
   ],
   "source": [
    "plt.figure(figsize=(10,3))\n",
    "plt.subplot(121)\n",
    "ax = sns.boxplot(x=subject_holistic_index[\"HOLISTIC_INDEX\"], color = 'darkblue')\n",
    "plt.subplot(122)\n",
    "\n",
    "sns.distplot(subject_holistic_index['HOLISTIC_INDEX'], hist=True, kde=True, color = 'darkblue', \n",
    "             hist_kws={'edgecolor':'black'},\n",
    "             kde_kws={'linewidth': 4})"
   ]
  },
  {
   "cell_type": "code",
   "execution_count": 23,
   "metadata": {
    "ExecuteTime": {
     "end_time": "2020-03-25T05:26:13.371473Z",
     "start_time": "2020-03-25T05:26:12.892287Z"
    }
   },
   "outputs": [
    {
     "data": {
      "text/plain": [
       "<matplotlib.axes._subplots.AxesSubplot at 0x1a22ad0f10>"
      ]
     },
     "execution_count": 23,
     "metadata": {},
     "output_type": "execute_result"
    },
    {
     "data": {
      "image/png": "[encoded data removed]",
      "text/plain": [
       "<Figure size 720x216 with 2 Axes>"
      ]
     },
     "metadata": {
      "needs_background": "light"
     },
     "output_type": "display_data"
    }
   ],
   "source": [
    "plt.figure(figsize=(10,3))\n",
    "plt.subplot(121)\n",
    "ax = sns.boxplot(x=subject_holistic_index[\"UPRIGHT\"], color = 'maroon')\n",
    "\n",
    "plt.subplot(122)\n",
    "sns.distplot(subject_holistic_index['UPRIGHT'], hist=True, kde=True, color = 'maroon', \n",
    "             hist_kws={'edgecolor':'black'},\n",
    "             kde_kws={'linewidth': 4})"
   ]
  },
  {
   "cell_type": "code",
   "execution_count": 24,
   "metadata": {
    "ExecuteTime": {
     "end_time": "2020-03-25T05:26:13.930277Z",
     "start_time": "2020-03-25T05:26:13.377223Z"
    }
   },
   "outputs": [
    {
     "data": {
      "text/plain": [
       "<matplotlib.axes._subplots.AxesSubplot at 0x1a22be96d0>"
      ]
     },
     "execution_count": 24,
     "metadata": {},
     "output_type": "execute_result"
    },
    {
     "data": {
      "image/png": "[encoded data removed]",
      "text/plain": [
       "<Figure size 720x216 with 2 Axes>"
      ]
     },
     "metadata": {
      "needs_background": "light"
     },
     "output_type": "display_data"
    }
   ],
   "source": [
    "plt.figure(figsize=(10,3))\n",
    "plt.subplot(121)\n",
    "ax = sns.boxplot(x=subject_holistic_index[\"INVERTED\"], color = 'darkgreen')\n",
    "\n",
    "plt.subplot(122)\n",
    "sns.distplot(subject_holistic_index['INVERTED'], hist=True, kde=True, color = 'darkgreen', \n",
    "             hist_kws={'edgecolor':'black'},\n",
    "             kde_kws={'linewidth': 4})"
   ]
  },
  {
   "cell_type": "markdown",
   "metadata": {},
   "source": [
    "# Save data "
   ]
  },
  {
   "cell_type": "code",
   "execution_count": 25,
   "metadata": {
    "ExecuteTime": {
     "end_time": "2020-03-25T05:26:13.947225Z",
     "start_time": "2020-03-25T05:26:13.933220Z"
    }
   },
   "outputs": [],
   "source": [
    "subject_holistic_index.to_csv('1_processed_holistic_index.csv')"
   ]
  },
  {
   "cell_type": "code",
   "execution_count": null,
   "metadata": {},
   "outputs": [],
   "source": []
  }
 ],
 "metadata": {
  "kernelspec": {
   "display_name": "Python 3",
   "language": "python",
   "name": "python3"
  },
  "language_info": {
   "codemirror_mode": {
    "name": "ipython",
    "version": 3
   },
   "file_extension": ".py",
   "mimetype": "text/x-python",
   "name": "python",
   "nbconvert_exporter": "python",
   "pygments_lexer": "ipython3",
   "version": "3.7.4"
  },
  "toc": {
   "base_numbering": 1,
   "nav_menu": {},
   "number_sections": true,
   "sideBar": true,
   "skip_h1_title": false,
   "title_cell": "Table of Contents",
   "title_sidebar": "Contents",
   "toc_cell": false,
   "toc_position": {},
   "toc_section_display": true,
   "toc_window_display": true
  }
 },
 "nbformat": 4,
 "nbformat_minor": 2
}
